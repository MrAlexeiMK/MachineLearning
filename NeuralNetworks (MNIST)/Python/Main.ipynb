{
 "cells": [
  {
   "cell_type": "code",
   "execution_count": 1,
   "metadata": {},
   "outputs": [],
   "source": [
    "import numpy\n",
    "import matplotlib.pyplot as plt\n",
    "import matplotlib\n",
    "import scipy.special\n",
    "import scipy.misc\n",
    "from scipy.ndimage import rotate\n",
    "from scipy.misc import face\n",
    "import PIL\n",
    "from PIL import Image\n",
    "from IPython.display import clear_output\n",
    "import os\n",
    "\n",
    "%matplotlib inline"
   ]
  },
  {
   "cell_type": "code",
   "execution_count": 21,
   "metadata": {},
   "outputs": [],
   "source": [
    "class neuralNetwork:\n",
    "    def __init__(self, nodes, lr):\n",
    "        self.nodes = nodes\n",
    "        self.lr = lr\n",
    "        self.layers = len(nodes)\n",
    "        \n",
    "        self.W = [numpy.random.normal(0.0, pow(self.nodes[i+1], -0.5), (self.nodes[i+1], self.nodes[i])) for i in range(0, self.layers-1)]\n",
    "        \n",
    "        self.activation_function = lambda x: scipy.special.expit(x)\n",
    "    def train(self, inputs_list, targets_list):\n",
    "        inputs = numpy.array(inputs_list, ndmin=2).T\n",
    "        targets = numpy.array(targets_list, ndmin=2).T\n",
    "        \n",
    "        outputs = inputs\n",
    "        outputs_array = [outputs]\n",
    "        for i in range(0, self.layers-1):\n",
    "            outputs = self.activation_function(numpy.dot(self.W[i], outputs))\n",
    "            outputs_array.append(outputs)\n",
    "        errors = targets-outputs\n",
    "        \n",
    "        for i in range(self.layers-2, -1, -1):\n",
    "            self.W[i] += self.lr * numpy.dot(((errors * outputs_array[i+1] * (1.0 - outputs_array[i+1]))), (numpy.transpose(outputs_array[i])))\n",
    "            errors = numpy.dot(self.W[i].T, errors)\n",
    "        \n",
    "    def query(self, inputs_list):\n",
    "        inputs = numpy.array(inputs_list, ndmin=2).T\n",
    "        \n",
    "        outputs = inputs\n",
    "        \n",
    "        for i in range(0, self.layers-1):\n",
    "            outputs = self.activation_function(numpy.dot(self.W[i], outputs))\n",
    "        \n",
    "        return outputs\n",
    "    def getRotateData(self, array, rot):\n",
    "        img = Image.new('L', (28, 28))\n",
    "        img.putdata(array)\n",
    "        data = numpy.ravel(numpy.array(img.rotate(rot)))\n",
    "        return data\n",
    "    def getRotateImage(self, array, rot):\n",
    "        img = Image.new('L', (28, 28))\n",
    "        img.putdata(array)\n",
    "        img = img.rotate(rot,fillcolor='white')\n",
    "        return img\n",
    "    def saveW(self):\n",
    "        for i in range(self.layers-1):\n",
    "            numpy.savetxt(\"weights/W\"+str(i+1), self.W[i])\n",
    "    def loadW(self):\n",
    "        for i in range(self.layers-1):\n",
    "            self.W[i] = numpy.loadtxt(\"weights/W\"+str(i+1))\n",
    "            if len(self.W[i].shape) == 1:\n",
    "                self.W[i] = numpy.array([self.W[i]])\n",
    "    def clearW(self):\n",
    "        self.W = [numpy.random.normal(0.0, pow(self.nodes[i+1], -0.5), (self.nodes[i+1], self.nodes[i])) for i in range(0, self.layers-1)]\n",
    "    #def toSymbol(self, num):\n",
    "    #    dic = {0:0,1:1,2:2,3:3,4:4,5:5,6:6,7:7,8:8,9:9,10:\"+\",11:\"-\",12:\"*\",13:\":\"}\n",
    "    #    return dic[num]"
   ]
  },
  {
   "cell_type": "code",
   "execution_count": 22,
   "metadata": {},
   "outputs": [],
   "source": [
    "#Данные нейросети\n",
    "input_nodes = 784\n",
    "output_nodes = 10\n",
    "nodes = [input_nodes, 120, output_nodes]\n",
    "learning_rate = 0.2\n",
    "epohs = 8\n",
    "generate_training_data = False\n",
    "\n",
    "n = neuralNetwork(nodes, learning_rate)"
   ]
  },
  {
   "cell_type": "code",
   "execution_count": 23,
   "metadata": {},
   "outputs": [
    {
     "name": "stdout",
     "output_type": "stream",
     "text": [
      "800 / 800\n",
      "[[0.00384713]\n",
      " [0.95317172]\n",
      " [0.01632768]\n",
      " [0.00938818]\n",
      " [0.05755647]\n",
      " [0.0212604 ]\n",
      " [0.00568649]\n",
      " [0.02872583]\n",
      " [0.00663511]\n",
      " [0.0060656 ]]\n"
     ]
    }
   ],
   "source": [
    "#Запустить тренировку сети\n",
    "training_data_file = open(\"mnist_dataset/mnist_train_100.csv\", 'r')\n",
    "training_data_list = training_data_file.readlines()\n",
    "training_data_file.close()\n",
    "lines = len(training_data_list)*epohs\n",
    "index = 1\n",
    "for ep in range(0, epohs):\n",
    "    for record in training_data_list:\n",
    "        clear_output()\n",
    "        print(index,\"/\",lines)\n",
    "        index+=1\n",
    "        all_values = record.split(',')\n",
    "        array = numpy.asfarray(all_values[1:])\n",
    "        targets = numpy.zeros(output_nodes) + 0.01\n",
    "        s = all_values[0]\n",
    "        if s not in \"+-*:\":\n",
    "            targets[int(s)] = 0.99\n",
    "            if generate_training_data == True:\n",
    "                for i in range(2, 10):\n",
    "                    inputs = n.getRotateData(array, i)\n",
    "                    inputs = (inputs / 255.0) * 0.99 + 0.01\n",
    "                    n.train(inputs, targets)\n",
    "            else:\n",
    "                inputs = (array / 255.0) * 0.99 + 0.01\n",
    "                n.train(inputs, targets)"
   ]
  },
  {
   "cell_type": "code",
   "execution_count": 73,
   "metadata": {},
   "outputs": [],
   "source": [
    "#Загрузить готовые веса\n",
    "n.loadW()"
   ]
  },
  {
   "cell_type": "code",
   "execution_count": 79,
   "metadata": {},
   "outputs": [
    {
     "name": "stdout",
     "output_type": "stream",
     "text": [
      "60.0 %\n"
     ]
    }
   ],
   "source": [
    "#Тестирование нейросети\n",
    "test_data_file = open(\"mnist_dataset/mnist_test_10.csv\", 'r')\n",
    "test_data_list = test_data_file.readlines()\n",
    "test_data_file.close()\n",
    "scor = 0\n",
    "for record in test_data_list:\n",
    "    all_values = record.split(',')\n",
    "    array = numpy.asfarray(all_values[1:])\n",
    "    inputs = (array / 255.0) * 0.99 + 0.01\n",
    "    \n",
    "    correct = int(all_values[0])\n",
    "    outputs = n.query(inputs)\n",
    "    label = numpy.argmax(outputs)\n",
    "    #print(label, correct)\n",
    "    if(label == correct):\n",
    "        scor+=1\n",
    "print(scor*100/len(test_data_list),\"%\")\n",
    "#image_array = numpy.asfarray(all_values[1:]).reshape((28, 28))\n",
    "#matplotlib.pyplot.imshow(image_array, cmap=\"Greys\", interpolation=\"None\")"
   ]
  },
  {
   "cell_type": "code",
   "execution_count": 53,
   "metadata": {},
   "outputs": [
    {
     "ename": "AttributeError",
     "evalue": "'neuralNetwork' object has no attribute 'toSymbol'",
     "output_type": "error",
     "traceback": [
      "\u001b[1;31m---------------------------------------------------------------------------\u001b[0m",
      "\u001b[1;31mAttributeError\u001b[0m                            Traceback (most recent call last)",
      "\u001b[1;32m<ipython-input-53-065a37a7ce54>\u001b[0m in \u001b[0;36m<module>\u001b[1;34m\u001b[0m\n\u001b[0;32m     14\u001b[0m \u001b[0moutputs\u001b[0m \u001b[1;33m=\u001b[0m \u001b[0mn\u001b[0m\u001b[1;33m.\u001b[0m\u001b[0mquery\u001b[0m\u001b[1;33m(\u001b[0m\u001b[0mimg_data\u001b[0m\u001b[1;33m)\u001b[0m\u001b[1;33m\u001b[0m\u001b[1;33m\u001b[0m\u001b[0m\n\u001b[0;32m     15\u001b[0m \u001b[0mlabel\u001b[0m \u001b[1;33m=\u001b[0m \u001b[0mnumpy\u001b[0m\u001b[1;33m.\u001b[0m\u001b[0margmax\u001b[0m\u001b[1;33m(\u001b[0m\u001b[0moutputs\u001b[0m\u001b[1;33m)\u001b[0m\u001b[1;33m\u001b[0m\u001b[1;33m\u001b[0m\u001b[0m\n\u001b[1;32m---> 16\u001b[1;33m \u001b[0mprint\u001b[0m\u001b[1;33m(\u001b[0m\u001b[0mn\u001b[0m\u001b[1;33m.\u001b[0m\u001b[0mtoSymbol\u001b[0m\u001b[1;33m(\u001b[0m\u001b[0mlabel\u001b[0m\u001b[1;33m)\u001b[0m\u001b[1;33m,\u001b[0m \u001b[1;34m\"(\"\u001b[0m\u001b[1;33m,\u001b[0m \u001b[0moutputs\u001b[0m\u001b[1;33m[\u001b[0m\u001b[0mlabel\u001b[0m\u001b[1;33m]\u001b[0m\u001b[1;33m*\u001b[0m\u001b[1;36m100\u001b[0m\u001b[1;33m,\u001b[0m \u001b[1;34m\"% )\"\u001b[0m\u001b[1;33m)\u001b[0m\u001b[1;33m\u001b[0m\u001b[1;33m\u001b[0m\u001b[0m\n\u001b[0m\u001b[0;32m     17\u001b[0m \u001b[1;33m\u001b[0m\u001b[0m\n\u001b[0;32m     18\u001b[0m \u001b[0mimg\u001b[0m\u001b[1;33m.\u001b[0m\u001b[0mclose\u001b[0m\u001b[1;33m(\u001b[0m\u001b[1;33m)\u001b[0m\u001b[1;33m\u001b[0m\u001b[1;33m\u001b[0m\u001b[0m\n",
      "\u001b[1;31mAttributeError\u001b[0m: 'neuralNetwork' object has no attribute 'toSymbol'"
     ]
    },
    {
     "data": {
      "image/png": "[encoded data removed]",
      "text/plain": [
       "<Figure size 432x288 with 1 Axes>"
      ]
     },
     "metadata": {
      "needs_background": "light"
     },
     "output_type": "display_data"
    }
   ],
   "source": [
    "#Определение одной цифры\n",
    "img = Image.open('my_tests/1.png')\n",
    "img = img.resize((28, 28), PIL.Image.ANTIALIAS)\n",
    "img = img.convert('L')\n",
    "#img_array = scipy.misc.imread(\"my_tests/2.png\", flatten=True)\n",
    "#img_data = 255.0 - img_array.reshape(784)\n",
    "\n",
    "img_data = 255.0-numpy.ravel(numpy.array(img))\n",
    "\n",
    "matplotlib.pyplot.imshow(255.0-numpy.array(img), cmap=\"Greys\", interpolation=\"None\")\n",
    "\n",
    "\n",
    "img_data = (img_data / 255.0 * 0.99) + 0.01\n",
    "outputs = n.query(img_data)\n",
    "label = numpy.argmax(outputs)\n",
    "print(n.toSymbol(label), \"(\", outputs[label]*100, \"% )\")\n",
    "\n",
    "img.close()"
   ]
  },
  {
   "cell_type": "code",
   "execution_count": 13,
   "metadata": {},
   "outputs": [
    {
     "name": "stdout",
     "output_type": "stream",
     "text": [
      ": ( [14.14401796] % )\n",
      "1 ( [14.10442384] % )\n"
     ]
    },
    {
     "data": {
      "image/png": "[encoded data removed]",
      "text/plain": [
       "<Figure size 432x288 with 1 Axes>"
      ]
     },
     "metadata": {
      "needs_background": "light"
     },
     "output_type": "display_data"
    },
    {
     "data": {
      "image/png": "[encoded data removed]",
      "text/plain": [
       "<Figure size 2016x2016 with 2 Axes>"
      ]
     },
     "metadata": {
      "needs_background": "light"
     },
     "output_type": "display_data"
    }
   ],
   "source": [
    "#Определение нескольких цифр\n",
    "img = Image.open('www.png')\n",
    "(w, h) = img.size\n",
    "width = (28*w)//h\n",
    "img = img.resize((width, 28), PIL.Image.ANTIALIAS)\n",
    "img = img.convert('L')\n",
    "\n",
    "img_data = 255.0-numpy.ravel(numpy.array(img))\n",
    "matplotlib.pyplot.imshow(255.0-numpy.array(img), cmap=\"Greys\", interpolation=\"None\")\n",
    "\n",
    "arr = numpy.asarray(img, dtype='uint8').T\n",
    "Sr=255\n",
    "\n",
    "ss = []\n",
    "xx = 0\n",
    "mode = False\n",
    "\n",
    "for x in range(0, width):\n",
    "    find = False\n",
    "    for y in range(0, 28):\n",
    "        pixel = int(arr[x][y])\n",
    "        if abs(Sr-pixel)<=50:\n",
    "            Sr=(pixel+Sr)//2\n",
    "        else:\n",
    "            find = True\n",
    "            if not mode:\n",
    "                ss.append(x)\n",
    "                mode = True\n",
    "    if mode:\n",
    "        if find:\n",
    "            xx = x\n",
    "        else:\n",
    "            ss.append(xx)\n",
    "            mode = False\n",
    "if mode == True:\n",
    "    ss.append(width)\n",
    "\n",
    "rows = 10\n",
    "columns = 5\n",
    "fig=plt.figure(figsize=(28, 28))\n",
    "for i in range(1, len(ss)):\n",
    "    if i%2 != 0:\n",
    "        area = (ss[i-1], 0, ss[i], 28)\n",
    "        cropped_img = img.crop(area)\n",
    "        im = Image.new('L', (28, 28), int(Sr))\n",
    "        im.paste(cropped_img, ((14-(ss[i]-ss[i-1])//2), 0))\n",
    "        array = numpy.array(im)\n",
    "        img_data = 255.0-numpy.ravel(array)\n",
    "    \n",
    "        fig.add_subplot(rows, columns, i//2 + 1)\n",
    "        plt.imshow(255.0-array, cmap=\"Greys\", interpolation=\"None\")\n",
    "    \n",
    "        img_data = (img_data / 255.0 * 0.99) + 0.01\n",
    "        outputs = n.query(img_data)\n",
    "        label = numpy.argmax(outputs)\n",
    "        print(n.toSymbol(label), \"(\", outputs[label]*100, \"% )\")\n",
    "        im.close()\n",
    "plt.show()"
   ]
  },
  {
   "cell_type": "code",
   "execution_count": 29,
   "metadata": {},
   "outputs": [
    {
     "name": "stdout",
     "output_type": "stream",
     "text": [
      "3\n",
      "1\n"
     ]
    },
    {
     "data": {
      "image/png": "[encoded data removed]",
      "text/plain": [
       "<Figure size 432x288 with 1 Axes>"
      ]
     },
     "metadata": {
      "needs_background": "light"
     },
     "output_type": "display_data"
    },
    {
     "data": {
      "image/png": "[encoded data removed]",
      "text/plain": [
       "<Figure size 2016x2016 with 2 Axes>"
      ]
     },
     "metadata": {
      "needs_background": "light"
     },
     "output_type": "display_data"
    }
   ],
   "source": [
    "#Определение нескольких цифр lvl up\n",
    "img = Image.open('www.png')\n",
    "(w, h) = img.size\n",
    "img = img.convert('L')\n",
    "\n",
    "img_data = 255.0-numpy.ravel(numpy.array(img))\n",
    "matplotlib.pyplot.imshow(255.0-numpy.array(img), cmap=\"Greys\", interpolation=\"None\")\n",
    "\n",
    "arr = numpy.asarray(img, dtype='uint8').T\n",
    "Sr=255\n",
    "used = numpy.zeros([w, h])\n",
    "v = [w-1, h-1, 0, 0]\n",
    "res = []\n",
    "\n",
    "def f(start_x, start_y):\n",
    "    global used\n",
    "    if used[start_x][start_y]:\n",
    "        return\n",
    "    if start_x<0 or start_x >= w or start_y < 0 or start_y >= h:\n",
    "        return\n",
    "    pixel = int(arr[start_x][start_y])\n",
    "    if abs(pixel-Sr)<30:\n",
    "        return\n",
    "    global v\n",
    "    used[start_x][start_y] = True\n",
    "    v[0]=min(v[0], start_x)\n",
    "    v[1]=min(v[1], start_y)\n",
    "    v[2]=max(v[2], start_x)\n",
    "    v[3]=max(v[3], start_y)\n",
    "    f(start_x+1, start_y)\n",
    "    f(start_x-1, start_y)\n",
    "    f(start_x, start_y+1)\n",
    "    f(start_x, start_y-1)\n",
    "    f(start_x+1, start_y+1)\n",
    "    f(start_x-1, start_y+1)\n",
    "    f(start_x+1, start_y-1)\n",
    "    f(start_x-1, start_y-1)\n",
    "    \n",
    "for y in range(0, h):\n",
    "    for x in range(0, w):\n",
    "        if not used[x][y]:\n",
    "            pixel = int(arr[x][y])\n",
    "            if abs(Sr-pixel)>=50:\n",
    "                v = [w-1, h-1, 0, 0]\n",
    "                f(x, y)\n",
    "                res.append(v)\n",
    "            else:\n",
    "                Sr=(pixel+Sr)//2\n",
    "rows = 10\n",
    "columns = 5\n",
    "i = 1\n",
    "fig=plt.figure(figsize=(28, 28))\n",
    "for area in res:\n",
    "    area[3]+=1\n",
    "    area[2]+=1\n",
    "    area[0]-=1\n",
    "    area[1]-=1\n",
    "    cropped_img = img.crop(area)\n",
    "    (ww, hh) = cropped_img.size\n",
    "    k = 23\n",
    "    im = Image.new('L', (28, 28), int(Sr))\n",
    "    if hh>=ww:\n",
    "        cropped_img = cropped_img.resize(((k*ww)//hh, k), PIL.Image.ANTIALIAS)\n",
    "        im.paste(cropped_img, ((14-(k*(area[2]-area[0]))//(2*hh)), (14-(k*(area[3]-area[1]))//(2*hh))-2))\n",
    "    else:\n",
    "        cropped_img = cropped_img.resize((k, ((k*hh)//ww)), PIL.Image.ANTIALIAS)\n",
    "        im.paste(cropped_img, ((14-(k*(area[2]-area[0]))//(2*ww)), (14-(k*(area[3]-area[1]))//(2*ww))-2))\n",
    "    array = numpy.array(im)\n",
    "    img_data = 255.0-numpy.ravel(array)\n",
    "    \n",
    "    fig.add_subplot(rows, columns, i)\n",
    "    i=i+1\n",
    "    plt.imshow(255.0-array, cmap=\"Greys\", interpolation=\"None\")\n",
    "    \n",
    "    img_data = (img_data / 255.0 * 0.99) + 0.01\n",
    "    outputs = n.query(img_data)\n",
    "    label = numpy.argmax(outputs)\n",
    "    print(n.toSymbol(label))\n",
    "\n",
    "plt.show()"
   ]
  },
  {
   "cell_type": "code",
   "execution_count": 239,
   "metadata": {
    "collapsed": true
   },
   "outputs": [],
   "source": [
    "def imagetoarray():\n",
    "    datas = open(\"mnist_dataset/my_trains.csv\", 'a')\n",
    "    v = os.listdir(\"my_trains/chast\")\n",
    "    for file in v:\n",
    "        img = Image.open(\"my_trains/chast/\"+str(file))\n",
    "        img = img.resize((28, 28), PIL.Image.ANTIALIAS)\n",
    "        img = img.convert('L')\n",
    "        img_array = 255-numpy.ravel(numpy.array(img))\n",
    "        array = numpy.ravel(img_array)\n",
    "        array = ','.join(map(str, array))\n",
    "        array=\":,\"+array+\"\\n\"\n",
    "        datas.write(array)\n",
    "def duplicate_rotates_image(path):\n",
    "    img = Image.open(str(path))\n",
    "    img = img.resize((28, 28), PIL.Image.ANTIALIAS)\n",
    "    img = img.convert('L')\n",
    "    img_array = numpy.ravel(numpy.array(img))\n",
    "    v = [-5,0,5]\n",
    "    for rot in v:\n",
    "        new_img = n.getRotateImage(img_array, rot)\n",
    "        new_img.save(\"my_trains/mult/1_\"+str(rot)+\".png\")"
   ]
  },
  {
   "cell_type": "code",
   "execution_count": 180,
   "metadata": {
    "collapsed": true
   },
   "outputs": [],
   "source": [
    "#duplicate_rotates_image('my_trans/1.png')\n",
    "imagetoarray()"
   ]
  },
  {
   "cell_type": "code",
   "execution_count": 80,
   "metadata": {},
   "outputs": [],
   "source": [
    "n.saveW()"
   ]
  },
  {
   "cell_type": "code",
   "execution_count": null,
   "metadata": {
    "collapsed": true
   },
   "outputs": [],
   "source": []
  }
 ],
 "metadata": {
  "anaconda-cloud": {},
  "kernelspec": {
   "display_name": "Python 3",
   "language": "python",
   "name": "python3"
  },
  "language_info": {
   "codemirror_mode": {
    "name": "ipython",
    "version": 3
   },
   "file_extension": ".py",
   "mimetype": "text/x-python",
   "name": "python",
   "nbconvert_exporter": "python",
   "pygments_lexer": "ipython3",
   "version": "3.8.2"
  }
 },
 "nbformat": 4,
 "nbformat_minor": 2
}
