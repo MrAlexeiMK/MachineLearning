{
 "cells": [
  {
   "cell_type": "code",
   "execution_count": 2,
   "metadata": {},
   "outputs": [],
   "source": [
    "import numpy\n",
    "import matplotlib.pyplot\n",
    "import scipy.special\n",
    "import scipy.misc\n",
    "import PIL\n",
    "from PIL import Image\n",
    "\n",
    "%matplotlib inline"
   ]
  },
  {
   "cell_type": "code",
   "execution_count": 46,
   "metadata": {},
   "outputs": [],
   "source": [
    "class neuralNetwork:\n",
    "    def __init__(self, inputnodes, hiddennodes, outputnodes, lr):\n",
    "        self.inodes = inputnodes\n",
    "        self.hnodes = hiddennodes\n",
    "        self.onodes = outputnodes\n",
    "        self.lr = lr\n",
    "        \n",
    "        self.wih = numpy.random.normal(0.0, pow(self.hnodes, -0.5), (self.hnodes, self.inodes))\n",
    "        self.who = numpy.random.normal(0.0, pow(self.onodes, -0.5), (self.onodes, self.hnodes))\n",
    "        \n",
    "        self.activation_function = lambda x: scipy.special.expit(x)\n",
    "    def train(self, inputs_list, targets_list):\n",
    "        inputs = numpy.array(inputs_list, ndmin=2).T\n",
    "        targets = numpy.array(targets_list, ndmin=2).T\n",
    "        \n",
    "        hidden_inputs = numpy.dot(self.wih, inputs)\n",
    "        hidden_outputs = self.activation_function(hidden_inputs)\n",
    "        final_inputs = numpy.dot(self.who, hidden_outputs)\n",
    "        final_outputs = self.activation_function(final_inputs)\n",
    "        \n",
    "        output_errors = targets-final_outputs\n",
    "        hidden_errors = numpy.dot(self.who.T, output_errors)\n",
    "        \n",
    "        self.who += self.lr * numpy.dot((output_errors * final_outputs * (1.0 - final_outputs)), numpy.transpose(hidden_outputs))\n",
    "        self.wih += self.lr * numpy.dot((hidden_errors * hidden_outputs *(1.0 - hidden_outputs)), numpy.transpose(inputs))\n",
    "        \n",
    "    def query(self, inputs_list):\n",
    "        inputs = numpy.array(inputs_list, ndmin=2).T\n",
    "        \n",
    "        hidden_inputs = numpy.dot(self.wih, inputs)\n",
    "        hidden_outputs = self.activation_function(hidden_inputs)\n",
    "        final_inputs = numpy. dot(self.who, hidden_outputs)\n",
    "        final_outputs = self.activation_function(final_inputs)\n",
    "        \n",
    "        return final_outputs\n",
    "    def printW(self):\n",
    "        print(self.wih)\n",
    "        print(self.who)\n",
    "    def saveW(self):\n",
    "        f1 = open(\"weights/wih\", \"r+\")\n",
    "        f2 = open(\"weights/who\", \"r+\")\n",
    "        f1.write(self.wih)\n",
    "        f2.write(self.who)\n",
    "    def loadW(self, file):\n",
    "        self.who = who\n",
    "        self.wih = wih\n",
    "    "
   ]
  },
  {
   "cell_type": "code",
   "execution_count": 47,
   "metadata": {},
   "outputs": [],
   "source": [
    "input_nodes = 784\n",
    "hidden_nodes = 200\n",
    "output_nodes = 10\n",
    "learning_rate = 0.2\n",
    "\n",
    "n = neuralNetwork(input_nodes, hidden_nodes, output_nodes, learning_rate)"
   ]
  },
  {
   "cell_type": "code",
   "execution_count": 5,
   "metadata": {},
   "outputs": [],
   "source": [
    "training_data_file = open(\"mnist_dataset/mnist_train.csv\", 'r')\n",
    "training_data_list = training_data_file.readlines()\n",
    "training_data_file.close()\n",
    "\n",
    "for record in training_data_list:\n",
    "    all_values = record.split(',')\n",
    "    inputs = (numpy.asfarray(all_values[1:]) / 255.0 * 0.99) + 0.01\n",
    "    targets = numpy.zeros(output_nodes) + 0.01\n",
    "    targets[int(all_values[0])] = 0.99\n",
    "    n.train(inputs, targets)"
   ]
  },
  {
   "cell_type": "code",
   "execution_count": 9,
   "metadata": {},
   "outputs": [
    {
     "name": "stdout",
     "output_type": "stream",
     "text": [
      "95.81 %\n"
     ]
    }
   ],
   "source": [
    "test_data_file = open(\"mnist_dataset/mnist_test.csv\", 'r')\n",
    "test_data_list = test_data_file.readlines()\n",
    "test_data_file.close()\n",
    "scor = 0\n",
    "for record in test_data_list:\n",
    "    all_values = record.split(',')\n",
    "    inputs = (numpy.asfarray(all_values[1:]) / 255.0 * 0.99) + 0.01\n",
    "    correct = int(all_values[0])\n",
    "    outputs = n.query(inputs)\n",
    "    label = numpy.argmax(outputs)\n",
    "    if(label == correct):\n",
    "        scor+=1\n",
    "print(scor*100/len(test_data_list),\"%\")\n",
    "#image_array = numpy.asfarray(all_values[1:]).reshape((28, 28))\n",
    "#matplotlib.pyplot.imshow(image_array, cmap=\"Greys\", interpolation=\"None\")"
   ]
  },
  {
   "cell_type": "code",
   "execution_count": 39,
   "metadata": {},
   "outputs": [
    {
     "name": "stderr",
     "output_type": "stream",
     "text": [
      "D:\\Anaconda\\lib\\site-packages\\ipykernel_launcher.py:4: DeprecationWarning: `imread` is deprecated!\n",
      "`imread` is deprecated in SciPy 1.0.0, and will be removed in 1.2.0.\n",
      "Use ``imageio.imread`` instead.\n",
      "  after removing the cwd from sys.path.\n"
     ]
    },
    {
     "name": "stdout",
     "output_type": "stream",
     "text": [
      "[[0.02110826]\n",
      " [0.00650364]\n",
      " [0.01532874]\n",
      " [0.00361026]\n",
      " [0.09218026]\n",
      " [0.37103173]\n",
      " [0.62311518]\n",
      " [0.00095241]\n",
      " [0.42114701]\n",
      " [0.0012166 ]]\n",
      "6\n"
     ]
    },
    {
     "data": {
      "image/png": "[encoded data removed]",
      "text/plain": [
       "<Figure size 432x288 with 1 Axes>"
      ]
     },
     "metadata": {
      "needs_background": "light"
     },
     "output_type": "display_data"
    }
   ],
   "source": [
    "img = Image.open('my_tests/2.png')\n",
    "img = img.resize((28, 28), PIL.Image.ANTIALIAS)\n",
    "img.save('my_tests/2.png')\n",
    "img_array = scipy.misc.imread(\"my_tests/2.png\", flatten=True)\n",
    "img_data = 255.0 - img_array.reshape(784)\n",
    "matplotlib.pyplot.imshow(255.0-img_array, cmap=\"Greys\", interpolation=\"None\")\n",
    "img_data = (img_data / 255.0 * 0.99) + 0.01\n",
    "outputs = n.query(img_data)\n",
    "print(outputs)\n",
    "label = numpy.argmax(outputs)\n",
    "print(label)\n",
    "\n",
    "img.close()"
   ]
  },
  {
   "cell_type": "code",
   "execution_count": 48,
   "metadata": {},
   "outputs": [
    {
     "name": "stdout",
     "output_type": "stream",
     "text": [
      "[[ 0.03792353  0.12353519 -0.02628884 ... -0.09593804  0.10465649\n",
      "  -0.04355437]\n",
      " [-0.01171319 -0.01255953 -0.05237803 ...  0.01095918  0.06197047\n",
      "  -0.11433705]\n",
      " [-0.05634916 -0.12027476  0.00788078 ... -0.05201437  0.02038156\n",
      "   0.05817315]\n",
      " ...\n",
      " [-0.03410648  0.08410233 -0.06577093 ... -0.00806428  0.03731786\n",
      "  -0.10207099]\n",
      " [ 0.00484929 -0.04019732  0.09487881 ... -0.06201894 -0.08701579\n",
      "   0.05829331]\n",
      " [-0.18396845 -0.09091238  0.08875216 ...  0.04277036  0.0139478\n",
      "   0.04512396]]\n",
      "[[ 0.20238814 -0.4801195   0.16131104 ...  0.3416705  -0.37221426\n",
      "  -0.3777368 ]\n",
      " [ 0.26074235  0.32142078  0.31532113 ... -0.28640934  0.00895374\n",
      "   0.64948567]\n",
      " [-0.1609393  -0.43883098 -0.11922038 ... -0.20202211 -0.07031517\n",
      "   0.19390474]\n",
      " ...\n",
      " [-0.59411145 -0.06414563 -0.2218002  ...  0.11239532  0.16896147\n",
      "   0.39554547]\n",
      " [-0.11934328  0.23802717 -0.46050693 ... -0.09995936 -0.27709655\n",
      "   0.65969382]\n",
      " [-0.59587824 -0.09710384  0.28235853 ...  0.11910553  0.11709273\n",
      "  -0.05985242]]\n"
     ]
    }
   ],
   "source": [
    "n.printW()"
   ]
  },
  {
   "cell_type": "code",
   "execution_count": null,
   "metadata": {},
   "outputs": [],
   "source": []
  }
 ],
 "metadata": {
  "kernelspec": {
   "display_name": "Python 3",
   "language": "python",
   "name": "python3"
  },
  "language_info": {
   "codemirror_mode": {
    "name": "ipython",
    "version": 3
   },
   "file_extension": ".py",
   "mimetype": "text/x-python",
   "name": "python",
   "nbconvert_exporter": "python",
   "pygments_lexer": "ipython3",
   "version": "3.7.3"
  }
 },
 "nbformat": 4,
 "nbformat_minor": 2
}
