{
 "cells": [
  {
   "cell_type": "code",
   "execution_count": 1,
   "metadata": {
    "collapsed": false
   },
   "outputs": [],
   "source": [
    "import os\n",
    "import argparse \n",
    "import warnings\n",
    "\n",
    "import numpy as np\n",
    "from scipy.io import wavfile \n",
    "\n",
    "from hmmlearn import hmm\n",
    "from python_speech_features import mfcc\n",
    "\n",
    "import pickle"
   ]
  },
  {
   "cell_type": "code",
   "execution_count": 2,
   "metadata": {
    "collapsed": false
   },
   "outputs": [],
   "source": [
    "class ModelHMM(object):\n",
    "    def __init__(self, num_components=4, num_iter=1000):\n",
    "        self.n_components = num_components\n",
    "        self.n_iter = num_iter\n",
    "\n",
    "        self.cov_type = 'diag' \n",
    "        self.model_name = 'GaussianHMM'\n",
    "\n",
    "        self.models = []\n",
    "\n",
    "        self.model = hmm.GaussianHMM(n_components=self.n_components, covariance_type=self.cov_type, n_iter=self.n_iter)\n",
    "\n",
    "    def train(self, training_data):\n",
    "        np.seterr(all='ignore')\n",
    "        cur_model = self.model.fit(training_data)\n",
    "        self.models.append(cur_model)\n",
    "\n",
    "    def compute_score(self, input_data):\n",
    "        return self.model.score(input_data)\n",
    "\n",
    "def build_models(input_folder):\n",
    "    speech_models = []\n",
    "    for dirname in os.listdir(input_folder):\n",
    "        subfolder = os.path.join(input_folder, dirname)\n",
    "        if not os.path.isdir(subfolder): \n",
    "            continue\n",
    "        label = subfolder[subfolder.rfind('/') + 1:]\n",
    "        X = np.array([])\n",
    "        training_files = [x for x in os.listdir(subfolder) if x.endswith('.wav')][:-1]\n",
    "\n",
    "        for filename in training_files: \n",
    "            filepath = os.path.join(subfolder, filename)\n",
    "            sampling_freq, signal = wavfile.read(filepath)\n",
    "            \n",
    "            with warnings.catch_warnings():\n",
    "                warnings.simplefilter('ignore')\n",
    "                features_mfcc = mfcc(signal, sampling_freq)\n",
    "\n",
    "            if len(X) == 0:\n",
    "                X = features_mfcc\n",
    "            else:\n",
    "                X = np.append(X, features_mfcc, axis=0)\n",
    "            \n",
    "        model = ModelHMM()\n",
    "        model.train(X)\n",
    "        speech_models.append((model, label))\n",
    "        model = None\n",
    "\n",
    "    return speech_models\n",
    "\n",
    "def run_tests(test_files):\n",
    "    for test_file in test_files:\n",
    "        sampling_freq, signal = wavfile.read(test_file)\n",
    "\n",
    "        with warnings.catch_warnings():\n",
    "            warnings.simplefilter('ignore')\n",
    "            features_mfcc = mfcc(signal, sampling_freq)\n",
    "\n",
    "        max_score = -float('inf') \n",
    "        output_label = None \n",
    "\n",
    "        for item in speech_models:\n",
    "            model, label = item\n",
    "            score = model.compute_score(features_mfcc)\n",
    "            if score > max_score:\n",
    "                max_score = score\n",
    "                predicted_label = label\n",
    "\n",
    "        start_index = test_file.find('/') + 1\n",
    "        end_index = test_file.rfind('\\\\')\n",
    "        original_label = test_file[start_index:end_index]\n",
    "        print('\\nOriginal: ', original_label) \n",
    "        print('Predicted:', predicted_label)\n",
    "        \n",
    "def test(test_file):\n",
    "    sampling_freq, signal = wavfile.read(test_file)\n",
    "    with warnings.catch_warnings():\n",
    "        warnings.simplefilter('ignore')\n",
    "        features_mfcc = mfcc(signal, sampling_freq)\n",
    "\n",
    "    max_score = -float('inf') \n",
    "    output_label = None \n",
    "\n",
    "    for item in speech_models:\n",
    "        model, label = item\n",
    "        score = model.compute_score(features_mfcc)\n",
    "        if score > max_score:\n",
    "            max_score = score\n",
    "            predicted_label = label\n",
    "    print('Predicted:', predicted_label)\n",
    "\n",
    "def saveModels():\n",
    "    output_model_file = 'saves/models.pkl'\n",
    "    with open(output_model_file, 'wb') as f:\n",
    "        pickle.dump(speech_models, f)\n",
    "        \n",
    "def loadModels():\n",
    "    global speech_models\n",
    "    output_model_file = 'saves/models.pkl'\n",
    "    with open(output_model_file, 'rb') as f:\n",
    "        speech_models = pickle.load(f)\n",
    "    \n",
    "input_folder = \"data/\"\n",
    "speech_models = None\n",
    "test_files = []\n",
    "for root, dirs, files in os.walk(input_folder):\n",
    "     for filename in (x for x in files if '15' in x):\n",
    "        filepath = os.path.join(root, filename)\n",
    "        test_files.append(filepath)"
   ]
  },
  {
   "cell_type": "code",
   "execution_count": 6,
   "metadata": {
    "collapsed": true
   },
   "outputs": [],
   "source": [
    "#Обучение\n",
    "speech_models = build_models(input_folder)"
   ]
  },
  {
   "cell_type": "code",
   "execution_count": 7,
   "metadata": {
    "collapsed": false
   },
   "outputs": [
    {
     "name": "stdout",
     "output_type": "stream",
     "text": [
      "\n",
      "Original:  apple\n",
      "Predicted: apple\n",
      "\n",
      "Original:  banana\n",
      "Predicted: banana\n",
      "\n",
      "Original:  kiwi\n",
      "Predicted: kiwi\n",
      "\n",
      "Original:  lime\n",
      "Predicted: lime\n",
      "\n",
      "Original:  orange\n",
      "Predicted: orange\n",
      "\n",
      "Original:  peach\n",
      "Predicted: peach\n",
      "\n",
      "Original:  pineapple\n",
      "Predicted: pineapple\n"
     ]
    }
   ],
   "source": [
    "#Тестирование\n",
    "run_tests(test_files)"
   ]
  },
  {
   "cell_type": "code",
   "execution_count": 9,
   "metadata": {
    "collapsed": true
   },
   "outputs": [],
   "source": [
    "#Сохранить модели\n",
    "saveModels()"
   ]
  },
  {
   "cell_type": "code",
   "execution_count": 4,
   "metadata": {
    "collapsed": true
   },
   "outputs": [],
   "source": [
    "#Загрузить модели\n",
    "loadModels()"
   ]
  },
  {
   "cell_type": "code",
   "execution_count": null,
   "metadata": {
    "collapsed": true
   },
   "outputs": [],
   "source": []
  }
 ],
 "metadata": {
  "anaconda-cloud": {},
  "kernelspec": {
   "display_name": "Python [default]",
   "language": "python",
   "name": "python3"
  },
  "language_info": {
   "codemirror_mode": {
    "name": "ipython",
    "version": 3
   },
   "file_extension": ".py",
   "mimetype": "text/x-python",
   "name": "python",
   "nbconvert_exporter": "python",
   "pygments_lexer": "ipython3",
   "version": "3.5.2"
  }
 },
 "nbformat": 4,
 "nbformat_minor": 1
}
