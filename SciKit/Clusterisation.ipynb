{
 "cells": [
  {
   "cell_type": "code",
   "execution_count": 13,
   "metadata": {
    "collapsed": false,
    "scrolled": true
   },
   "outputs": [],
   "source": [
    "import numpy as np\n",
    "import matplotlib.pyplot as plt\n",
    "from sklearn.cluster import KMeans, MeanShift, estimate_bandwidth \n",
    "from sklearn import metrics\n",
    "\n",
    "%matplotlib inline\n",
    "\n",
    "def visualize_cluster(cluster, X):\n",
    "    step_size = 0.01\n",
    "    min_x, max_x = X[:, 0].min() - 1.0, X[:, 0].max() + 1.0\n",
    "    min_y, max_y = X[:, 1] .min() - 1.0, X[:, 1].max() + 1.0\n",
    "    x_vals, y_vals = np.meshgrid(np.arange(min_x, max_x, step_size), np.arange(min_y, max_y, step_size))\n",
    "    output = cluster.predict(np.c_[x_vals.ravel(),y_vals.ravel()])\n",
    "    output = output.reshape(x_vals.shape)\n",
    "    plt.figure()\n",
    "    plt.clf()\n",
    "    plt.imshow(output, interpolation='nearest',\n",
    "        extent=(x_vals.min(), x_vals.max(),\n",
    "        y_vals.min(), y_vals.max()),\n",
    "        cmap=plt.cm.Paired,\n",
    "        aspect='auto',\n",
    "        origin=' lower')\n",
    "    plt.scatter(X[:,0], Х[:,1], marker='o', facecolors='none', edgecolors='black', s=80)\n",
    "    cluster_centers = cluster.cluster_centers_\n",
    "    plt.scatter(cluster_centers[:,0], cluster_centers[:,1],\n",
    "        marker='o', s=210, linewidths=4, color='red',\n",
    "        zorder=12, facecolors='black')\n",
    "    plt.title('Clusters')\n",
    "    plt.xlim(min_x, max_x)\n",
    "    plt.ylim(min_y, max_y)\n",
    "    plt.xticks(())\n",
    "    plt.yticks(())\n",
    "    plt.show()"
   ]
  },
  {
   "cell_type": "code",
   "execution_count": 14,
   "metadata": {
    "collapsed": false
   },
   "outputs": [],
   "source": [
    "X = np.loadtxt('data/clast.txt', delimiter=',')\n",
    "silhouette_optimaze = True"
   ]
  },
  {
   "cell_type": "code",
   "execution_count": 15,
   "metadata": {
    "collapsed": false
   },
   "outputs": [
    {
     "name": "stdout",
     "output_type": "stream",
     "text": [
      "0.491218521457\n",
      "0.49290567446\n",
      "0.513926944058\n",
      "0.59065198379\n",
      "0.527698028848\n",
      "0.478311136944\n",
      "0.414166726087\n",
      "0.428470491919\n"
     ]
    }
   ],
   "source": [
    "#K-means\n",
    "num_clusters = 5\n",
    "if silhouette_optimaze:\n",
    "    best_score = -1\n",
    "    values = np.arange(2,10)\n",
    "    for num in values:\n",
    "        cluster = KMeans(init='k-means++', n_clusters=num, n_init=10)\n",
    "        cluster.fit(X)\n",
    "        score = metrics.silhouette_score(X, cluster.labels_, metric='euclidean', sample_size=len(X))\n",
    "        print(score)\n",
    "        if score > best_score:\n",
    "            best_score = score\n",
    "            num_clusters = num\n",
    "cluster = KMeans(init='k-means++', n_clusters=num_clusters, n_init=10)"
   ]
  },
  {
   "cell_type": "code",
   "execution_count": 128,
   "metadata": {
    "collapsed": false
   },
   "outputs": [],
   "source": [
    "#MeanShift (сдвиг среднего)\n",
    "bandwidth_X = estimate_bandwidth(X, quantile=0.1, n_samples=len(X))\n",
    "cluster = MeanShift(bandwidth=bandwidth_X, bin_seeding=True)"
   ]
  },
  {
   "cell_type": "code",
   "execution_count": 16,
   "metadata": {
    "collapsed": false
   },
   "outputs": [
    {
     "data": {
      "text/plain": [
       "KMeans(algorithm='auto', copy_x=True, init='k-means++', max_iter=300,\n",
       "    n_clusters=5, n_init=10, n_jobs=1, precompute_distances='auto',\n",
       "    random_state=None, tol=0.0001, verbose=0)"
      ]
     },
     "execution_count": 16,
     "metadata": {},
     "output_type": "execute_result"
    }
   ],
   "source": [
    "cluster.fit(X)"
   ]
  },
  {
   "cell_type": "code",
   "execution_count": 17,
   "metadata": {
    "collapsed": false
   },
   "outputs": [
    {
     "ename": "NameError",
     "evalue": "name 'Х' is not defined",
     "output_type": "error",
     "traceback": [
      "\u001b[0;31m---------------------------------------------------------------------------\u001b[0m",
      "\u001b[0;31mNameError\u001b[0m                                 Traceback (most recent call last)",
      "\u001b[0;32m<ipython-input-17-46a462c2bfeb>\u001b[0m in \u001b[0;36m<module>\u001b[0;34m()\u001b[0m\n\u001b[0;32m----> 1\u001b[0;31m \u001b[0mvisualize_cluster\u001b[0m\u001b[1;33m(\u001b[0m\u001b[0mcluster\u001b[0m\u001b[1;33m,\u001b[0m \u001b[0mX\u001b[0m\u001b[1;33m)\u001b[0m\u001b[1;33m\u001b[0m\u001b[0m\n\u001b[0m",
      "\u001b[0;32m<ipython-input-13-39ac1d0e6f1b>\u001b[0m in \u001b[0;36mvisualize_cluster\u001b[0;34m(cluster, X)\u001b[0m\n\u001b[1;32m     21\u001b[0m         \u001b[0maspect\u001b[0m\u001b[1;33m=\u001b[0m\u001b[1;34m'auto'\u001b[0m\u001b[1;33m,\u001b[0m\u001b[1;33m\u001b[0m\u001b[0m\n\u001b[1;32m     22\u001b[0m         origin=' lower')\n\u001b[0;32m---> 23\u001b[0;31m     \u001b[0mplt\u001b[0m\u001b[1;33m.\u001b[0m\u001b[0mscatter\u001b[0m\u001b[1;33m(\u001b[0m\u001b[0mX\u001b[0m\u001b[1;33m[\u001b[0m\u001b[1;33m:\u001b[0m\u001b[1;33m,\u001b[0m\u001b[1;36m0\u001b[0m\u001b[1;33m]\u001b[0m\u001b[1;33m,\u001b[0m \u001b[0mХ\u001b[0m\u001b[1;33m[\u001b[0m\u001b[1;33m:\u001b[0m\u001b[1;33m,\u001b[0m\u001b[1;36m1\u001b[0m\u001b[1;33m]\u001b[0m\u001b[1;33m,\u001b[0m \u001b[0mmarker\u001b[0m\u001b[1;33m=\u001b[0m\u001b[1;34m'o'\u001b[0m\u001b[1;33m,\u001b[0m \u001b[0mfacecolors\u001b[0m\u001b[1;33m=\u001b[0m\u001b[1;34m'none'\u001b[0m\u001b[1;33m,\u001b[0m \u001b[0medgecolors\u001b[0m\u001b[1;33m=\u001b[0m\u001b[1;34m'black'\u001b[0m\u001b[1;33m,\u001b[0m \u001b[0ms\u001b[0m\u001b[1;33m=\u001b[0m\u001b[1;36m80\u001b[0m\u001b[1;33m)\u001b[0m\u001b[1;33m\u001b[0m\u001b[0m\n\u001b[0m\u001b[1;32m     24\u001b[0m     \u001b[0mcluster_centers\u001b[0m \u001b[1;33m=\u001b[0m \u001b[0mcluster\u001b[0m\u001b[1;33m.\u001b[0m\u001b[0mcluster_centers_\u001b[0m\u001b[1;33m\u001b[0m\u001b[0m\n\u001b[1;32m     25\u001b[0m     plt.scatter(cluster_centers[:,0], cluster_centers[:,1],\n",
      "\u001b[0;31mNameError\u001b[0m: name 'Х' is not defined"
     ]
    },
    {
     "data": {
      "image/png": "[encoded data removed]",
      "text/plain": [
       "<matplotlib.figure.Figure at 0x191176fc198>"
      ]
     },
     "metadata": {},
     "output_type": "display_data"
    }
   ],
   "source": [
    "visualize_cluster(cluster, X)"
   ]
  },
  {
   "cell_type": "code",
   "execution_count": null,
   "metadata": {
    "collapsed": true
   },
   "outputs": [],
   "source": []
  }
 ],
 "metadata": {
  "anaconda-cloud": {},
  "kernelspec": {
   "display_name": "Python [default]",
   "language": "python",
   "name": "python3"
  },
  "language_info": {
   "codemirror_mode": {
    "name": "ipython",
    "version": 3
   },
   "file_extension": ".py",
   "mimetype": "text/x-python",
   "name": "python",
   "nbconvert_exporter": "python",
   "pygments_lexer": "ipython3",
   "version": "3.5.2"
  }
 },
 "nbformat": 4,
 "nbformat_minor": 2
}
