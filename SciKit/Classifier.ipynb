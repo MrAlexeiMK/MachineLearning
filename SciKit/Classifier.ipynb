{
 "cells": [
  {
   "cell_type": "code",
   "execution_count": 1,
   "metadata": {
    "scrolled": true
   },
   "outputs": [],
   "source": [
    "import numpy as np\n",
    "from sklearn import linear_model\n",
    "from sklearn.naive_bayes import GaussianNB\n",
    "from sklearn.tree import DecisionTreeClassifier\n",
    "from sklearn.ensemble import RandomForestClassifier,ExtraTreesClassifier\n",
    "from sklearn.model_selection import train_test_split, GridSearchCV\n",
    "from sklearn import neighbors\n",
    "from sklearn.svm import LinearSVC\n",
    "from sklearn.multiclass import OneVsOneClassifier\n",
    "import matplotlib.pyplot as plt\n",
    "from sklearn import datasets\n",
    "%matplotlib inline\n",
    "\n",
    "def visualize_classifier(classifier, Х, y):\n",
    "    min_x, max_x = Х[:, 0].min() - 1.0, Х[:, 0].max() + 1.0\n",
    "    min_y, max_y = Х[:, 1] .min() - 1.0, Х[:, 1].max() + 1.0\n",
    "    mesh_step_size = 0.01\n",
    "    x_vals, y_vals = np.meshgrid(np.arange(min_x, max_x, mesh_step_size), np.arange(min_y, max_y, mesh_step_size))\n",
    "    output = classifier.predict(np.c_[x_vals.ravel(),y_vals.ravel()]) #np.c_(np.array([1,2]),np.array([3,4]))=array([[1,3],[2,4]])\n",
    "    output = output.reshape(x_vals.shape)\n",
    "    \n",
    "    plt.figure()\n",
    "    plt.pcolormesh(x_vals, y_vals, output, cmap=plt.cm.gray) #output задаёт цвет (класс)\n",
    "    plt.scatter(X[:, 0], Х[:, 1], c=y, s=50, edgecolors='black', linewidth=1, cmap=plt.cm.Paired) #c - color\n",
    "    plt.xlim(x_vals.min(), x_vals.max())\n",
    "    plt.ylim(y_vals.min(), y_vals.max())\n",
    "    plt.xticks((np.arange(int(X[:, 0].min() - 1), int(X[:, 0].max() + 1), 1.0)))\n",
    "    plt.yticks((np.arange(int(X[:, 1].min() - 1), int(X[:, 1].max() + 1), 1.0)))\n",
    "    \n",
    "    plt.show()"
   ]
  },
  {
   "cell_type": "code",
   "execution_count": 2,
   "metadata": {},
   "outputs": [],
   "source": [
    "input_file = \"data/clast.txt\"\n",
    "data = np.loadtxt(input_file, delimiter=',')\n",
    "X, y = data[:, :-1], data[:, -1]\n",
    "X_train, X_test, y_train, y_test = train_test_split(X, y, test_size=0.2, random_state=3)\n",
    "get_proba = False\n",
    "using_grid = False"
   ]
  },
  {
   "cell_type": "code",
   "execution_count": 3,
   "metadata": {},
   "outputs": [],
   "source": [
    "#Logistic classifier\n",
    "classifier = linear_model.LogisticRegression(solver='liblinear',C=100)"
   ]
  },
  {
   "cell_type": "code",
   "execution_count": 4,
   "metadata": {},
   "outputs": [],
   "source": [
    "#Baise classifier\n",
    "classifier = GaussianNB()"
   ]
  },
  {
   "cell_type": "code",
   "execution_count": 5,
   "metadata": {},
   "outputs": [],
   "source": [
    "#Machine of vectors (linear core)\n",
    "classifier = OneVsOneClassifier(LinearSVC())"
   ]
  },
  {
   "cell_type": "code",
   "execution_count": 6,
   "metadata": {},
   "outputs": [],
   "source": [
    "#Tree classifier\n",
    "params = {'random_state': 0, 'max_depth': 10}\n",
    "classifier = DecisionTreeClassifier(**params) "
   ]
  },
  {
   "cell_type": "code",
   "execution_count": 7,
   "metadata": {},
   "outputs": [
    {
     "name": "stdout",
     "output_type": "stream",
     "text": [
      "{'n_estimators': 4, 'max_depth': 4, 'random_state': 0}\n"
     ]
    }
   ],
   "source": [
    "#Random forest classifier\n",
    "params = {}\n",
    "best_score = 0\n",
    "if using_grid:\n",
    "    metrics = ['precision_weighted', 'recall_weighted'] \n",
    "    parameter_grid = [ {'n_estimators': [i for i in range(20,35)], 'max_depth': [4] }, {'max_depth': [i for i in range(1,10)], 'n_estimators': [4]}] \n",
    "    for metric in metrics:\n",
    "        classifier = GridSearchCV(RandomForestClassifier(random_state=0), parameter_grid, cv=5, scoring=metric)\n",
    "        classifier.fit(X_train, y_train)\n",
    "        b = classifier.best_score_\n",
    "        if b > best_score:\n",
    "            best_score = b\n",
    "            params = classifier.best_params_\n",
    "else:\n",
    "    params = {'n_estimators': 4, 'max_depth': 4, 'random_state': 0 }\n",
    "print(params)\n",
    "classifier = RandomForestClassifier(**params)"
   ]
  },
  {
   "cell_type": "code",
   "execution_count": 34,
   "metadata": {},
   "outputs": [],
   "source": [
    "#Extra trees classifier\n",
    "params = {'n_estimators': 4, 'max_depth': 4, 'random_state': 0}\n",
    "classifier = ExtraTreesClassifier(**params)"
   ]
  },
  {
   "cell_type": "code",
   "execution_count": 35,
   "metadata": {},
   "outputs": [],
   "source": [
    "#Neighbors classifier\n",
    "num_neighbors = 12\n",
    "classifier = neighbors.KNeighborsClassifier(num_neighbors, weights='distance')"
   ]
  },
  {
   "cell_type": "code",
   "execution_count": 41,
   "metadata": {
    "scrolled": false
   },
   "outputs": [
    {
     "ename": "ValueError",
     "evalue": "Unknown label type: (array([-0.29,  0.11,  0.14,  0.43,  0.53,  0.62,  0.64,  0.79,  0.8 ,\n        0.95,  0.99,  1.  ,  1.02,  1.05,  1.06,  1.07,  1.08,  1.11,\n        1.15,  1.18,  1.22,  1.26,  1.3 ,  1.31,  1.34,  1.37,  1.41,\n        1.42,  1.47,  1.51,  1.52,  1.54,  1.56,  1.63,  1.64,  1.65,\n        1.67,  1.69,  1.77,  1.78,  1.8 ,  1.81,  1.82,  1.86,  1.87,\n        1.88,  1.94,  1.96,  1.99,  2.  ,  2.05,  2.06,  2.08,  2.11,\n        2.14,  2.15,  2.16,  2.19,  2.2 ,  2.21,  2.23,  2.24,  2.25,\n        2.28,  2.29,  2.32,  2.36,  2.41,  2.42,  2.44,  2.46,  2.47,\n        2.5 ,  2.52,  2.54,  2.64,  2.67,  2.71,  2.81,  2.88,  2.93,\n        2.94,  2.97,  2.99,  3.  ,  3.03,  3.05,  3.06,  3.09,  3.12,\n        3.19,  3.25,  3.27,  3.38,  3.39,  3.53,  3.63,  3.69,  3.8 ,\n        3.81,  3.84,  3.88,  3.98,  3.99,  4.08,  4.11,  4.33,  4.49,\n        4.5 ,  4.54,  4.56,  4.57,  4.64,  4.65,  4.69,  4.78,  4.86,\n        5.  ,  5.03,  5.06,  5.12,  5.2 ,  5.25,  5.29,  5.32,  5.35,\n        5.36,  5.42,  5.49,  5.51,  5.65,  5.73,  5.74,  5.78,  5.83,\n        5.84,  5.9 ,  6.  ,  6.06,  6.07,  6.1 ,  6.13,  6.22,  6.24,\n        6.28,  6.3 ,  6.42,  6.55,  6.74,  6.75,  7.08,  7.14,  7.25,\n        7.26,  7.35,  7.37,  7.38,  7.41,  7.45,  7.47,  7.53,  7.58,\n        7.59,  7.65,  7.7 ,  7.73,  7.74,  7.78,  7.82,  7.85,  7.86,\n        7.89,  7.9 ,  7.91,  7.92,  7.95,  7.96,  7.97,  8.  ,  8.02,\n        8.03,  8.04,  8.06,  8.08,  8.09,  8.1 ,  8.11,  8.16,  8.19,\n        8.23,  8.25,  8.26,  8.28,  8.29,  8.34,  8.35,  8.39,  8.41,\n        8.45,  8.46,  8.47,  8.5 ,  8.55,  8.57,  8.66,  8.67,  8.69,\n        8.71,  8.72,  8.73,  8.76,  8.78,  8.79,  8.8 ,  8.9 ,  8.96,\n        8.97,  8.98,  8.99,  9.06,  9.09,  9.11,  9.13,  9.18,  9.27,\n        9.38,  9.39,  9.44,  9.5 ,  9.55,  9.56,  9.65,  9.66,  9.73,\n        9.74,  9.98, 10.2 , 10.32]),)",
     "output_type": "error",
     "traceback": [
      "\u001b[0;31m---------------------------------------------------------------------------\u001b[0m",
      "\u001b[0;31mValueError\u001b[0m                                Traceback (most recent call last)",
      "\u001b[0;32m<ipython-input-41-2ae053dbc4a4>\u001b[0m in \u001b[0;36m<module>\u001b[0;34m\u001b[0m\n\u001b[0;32m----> 1\u001b[0;31m \u001b[0mclassifier\u001b[0m\u001b[0;34m.\u001b[0m\u001b[0mfit\u001b[0m\u001b[0;34m(\u001b[0m\u001b[0mX_train\u001b[0m\u001b[0;34m,\u001b[0m \u001b[0my_train\u001b[0m\u001b[0;34m)\u001b[0m\u001b[0;34m\u001b[0m\u001b[0;34m\u001b[0m\u001b[0m\n\u001b[0m\u001b[1;32m      2\u001b[0m \u001b[0my_test_pred\u001b[0m \u001b[0;34m=\u001b[0m \u001b[0;34m[\u001b[0m\u001b[0;34m]\u001b[0m\u001b[0;34m\u001b[0m\u001b[0;34m\u001b[0m\u001b[0m\n\u001b[1;32m      3\u001b[0m \u001b[0;32mif\u001b[0m \u001b[0mget_proba\u001b[0m\u001b[0;34m:\u001b[0m\u001b[0;34m\u001b[0m\u001b[0;34m\u001b[0m\u001b[0m\n\u001b[1;32m      4\u001b[0m     \u001b[0my_test_pred_proba\u001b[0m \u001b[0;34m=\u001b[0m \u001b[0mclassifier\u001b[0m\u001b[0;34m.\u001b[0m\u001b[0mpredict_proba\u001b[0m\u001b[0;34m(\u001b[0m\u001b[0mX_test\u001b[0m\u001b[0;34m)\u001b[0m\u001b[0;34m\u001b[0m\u001b[0;34m\u001b[0m\u001b[0m\n\u001b[1;32m      5\u001b[0m     \u001b[0;32mfor\u001b[0m \u001b[0mi\u001b[0m \u001b[0;32min\u001b[0m \u001b[0mrange\u001b[0m\u001b[0;34m(\u001b[0m\u001b[0;36m0\u001b[0m\u001b[0;34m,\u001b[0m \u001b[0mlen\u001b[0m\u001b[0;34m(\u001b[0m\u001b[0my_test_pred_proba\u001b[0m\u001b[0;34m)\u001b[0m\u001b[0;34m)\u001b[0m\u001b[0;34m:\u001b[0m\u001b[0;34m\u001b[0m\u001b[0;34m\u001b[0m\u001b[0m\n",
      "\u001b[0;32m~/.local/lib/python3.6/site-packages/sklearn/naive_bayes.py\u001b[0m in \u001b[0;36mfit\u001b[0;34m(self, X, y, sample_weight)\u001b[0m\n\u001b[1;32m    189\u001b[0m         \u001b[0mX\u001b[0m\u001b[0;34m,\u001b[0m \u001b[0my\u001b[0m \u001b[0;34m=\u001b[0m \u001b[0mcheck_X_y\u001b[0m\u001b[0;34m(\u001b[0m\u001b[0mX\u001b[0m\u001b[0;34m,\u001b[0m \u001b[0my\u001b[0m\u001b[0;34m)\u001b[0m\u001b[0;34m\u001b[0m\u001b[0;34m\u001b[0m\u001b[0m\n\u001b[1;32m    190\u001b[0m         return self._partial_fit(X, y, np.unique(y), _refit=True,\n\u001b[0;32m--> 191\u001b[0;31m                                  sample_weight=sample_weight)\n\u001b[0m\u001b[1;32m    192\u001b[0m \u001b[0;34m\u001b[0m\u001b[0m\n\u001b[1;32m    193\u001b[0m     \u001b[0;34m@\u001b[0m\u001b[0mstaticmethod\u001b[0m\u001b[0;34m\u001b[0m\u001b[0;34m\u001b[0m\u001b[0m\n",
      "\u001b[0;32m~/.local/lib/python3.6/site-packages/sklearn/naive_bayes.py\u001b[0m in \u001b[0;36m_partial_fit\u001b[0;34m(self, X, y, classes, _refit, sample_weight)\u001b[0m\n\u001b[1;32m    351\u001b[0m             \u001b[0mself\u001b[0m\u001b[0;34m.\u001b[0m\u001b[0mclasses_\u001b[0m \u001b[0;34m=\u001b[0m \u001b[0;32mNone\u001b[0m\u001b[0;34m\u001b[0m\u001b[0;34m\u001b[0m\u001b[0m\n\u001b[1;32m    352\u001b[0m \u001b[0;34m\u001b[0m\u001b[0m\n\u001b[0;32m--> 353\u001b[0;31m         \u001b[0;32mif\u001b[0m \u001b[0m_check_partial_fit_first_call\u001b[0m\u001b[0;34m(\u001b[0m\u001b[0mself\u001b[0m\u001b[0;34m,\u001b[0m \u001b[0mclasses\u001b[0m\u001b[0;34m)\u001b[0m\u001b[0;34m:\u001b[0m\u001b[0;34m\u001b[0m\u001b[0;34m\u001b[0m\u001b[0m\n\u001b[0m\u001b[1;32m    354\u001b[0m             \u001b[0;31m# This is the first call to partial_fit:\u001b[0m\u001b[0;34m\u001b[0m\u001b[0;34m\u001b[0m\u001b[0;34m\u001b[0m\u001b[0m\n\u001b[1;32m    355\u001b[0m             \u001b[0;31m# initialize various cumulative counters\u001b[0m\u001b[0;34m\u001b[0m\u001b[0;34m\u001b[0m\u001b[0;34m\u001b[0m\u001b[0m\n",
      "\u001b[0;32m~/.local/lib/python3.6/site-packages/sklearn/utils/multiclass.py\u001b[0m in \u001b[0;36m_check_partial_fit_first_call\u001b[0;34m(clf, classes)\u001b[0m\n\u001b[1;32m    318\u001b[0m         \u001b[0;32melse\u001b[0m\u001b[0;34m:\u001b[0m\u001b[0;34m\u001b[0m\u001b[0;34m\u001b[0m\u001b[0m\n\u001b[1;32m    319\u001b[0m             \u001b[0;31m# This is the first call to partial_fit\u001b[0m\u001b[0;34m\u001b[0m\u001b[0;34m\u001b[0m\u001b[0;34m\u001b[0m\u001b[0m\n\u001b[0;32m--> 320\u001b[0;31m             \u001b[0mclf\u001b[0m\u001b[0;34m.\u001b[0m\u001b[0mclasses_\u001b[0m \u001b[0;34m=\u001b[0m \u001b[0munique_labels\u001b[0m\u001b[0;34m(\u001b[0m\u001b[0mclasses\u001b[0m\u001b[0;34m)\u001b[0m\u001b[0;34m\u001b[0m\u001b[0;34m\u001b[0m\u001b[0m\n\u001b[0m\u001b[1;32m    321\u001b[0m             \u001b[0;32mreturn\u001b[0m \u001b[0;32mTrue\u001b[0m\u001b[0;34m\u001b[0m\u001b[0;34m\u001b[0m\u001b[0m\n\u001b[1;32m    322\u001b[0m \u001b[0;34m\u001b[0m\u001b[0m\n",
      "\u001b[0;32m~/.local/lib/python3.6/site-packages/sklearn/utils/multiclass.py\u001b[0m in \u001b[0;36munique_labels\u001b[0;34m(*ys)\u001b[0m\n\u001b[1;32m     92\u001b[0m     \u001b[0m_unique_labels\u001b[0m \u001b[0;34m=\u001b[0m \u001b[0m_FN_UNIQUE_LABELS\u001b[0m\u001b[0;34m.\u001b[0m\u001b[0mget\u001b[0m\u001b[0;34m(\u001b[0m\u001b[0mlabel_type\u001b[0m\u001b[0;34m,\u001b[0m \u001b[0;32mNone\u001b[0m\u001b[0;34m)\u001b[0m\u001b[0;34m\u001b[0m\u001b[0;34m\u001b[0m\u001b[0m\n\u001b[1;32m     93\u001b[0m     \u001b[0;32mif\u001b[0m \u001b[0;32mnot\u001b[0m \u001b[0m_unique_labels\u001b[0m\u001b[0;34m:\u001b[0m\u001b[0;34m\u001b[0m\u001b[0;34m\u001b[0m\u001b[0m\n\u001b[0;32m---> 94\u001b[0;31m         \u001b[0;32mraise\u001b[0m \u001b[0mValueError\u001b[0m\u001b[0;34m(\u001b[0m\u001b[0;34m\"Unknown label type: %s\"\u001b[0m \u001b[0;34m%\u001b[0m \u001b[0mrepr\u001b[0m\u001b[0;34m(\u001b[0m\u001b[0mys\u001b[0m\u001b[0;34m)\u001b[0m\u001b[0;34m)\u001b[0m\u001b[0;34m\u001b[0m\u001b[0;34m\u001b[0m\u001b[0m\n\u001b[0m\u001b[1;32m     95\u001b[0m \u001b[0;34m\u001b[0m\u001b[0m\n\u001b[1;32m     96\u001b[0m     \u001b[0mys_labels\u001b[0m \u001b[0;34m=\u001b[0m \u001b[0mset\u001b[0m\u001b[0;34m(\u001b[0m\u001b[0mchain\u001b[0m\u001b[0;34m.\u001b[0m\u001b[0mfrom_iterable\u001b[0m\u001b[0;34m(\u001b[0m\u001b[0m_unique_labels\u001b[0m\u001b[0;34m(\u001b[0m\u001b[0my\u001b[0m\u001b[0;34m)\u001b[0m \u001b[0;32mfor\u001b[0m \u001b[0my\u001b[0m \u001b[0;32min\u001b[0m \u001b[0mys\u001b[0m\u001b[0;34m)\u001b[0m\u001b[0;34m)\u001b[0m\u001b[0;34m\u001b[0m\u001b[0;34m\u001b[0m\u001b[0m\n",
      "\u001b[0;31mValueError\u001b[0m: Unknown label type: (array([-0.29,  0.11,  0.14,  0.43,  0.53,  0.62,  0.64,  0.79,  0.8 ,\n        0.95,  0.99,  1.  ,  1.02,  1.05,  1.06,  1.07,  1.08,  1.11,\n        1.15,  1.18,  1.22,  1.26,  1.3 ,  1.31,  1.34,  1.37,  1.41,\n        1.42,  1.47,  1.51,  1.52,  1.54,  1.56,  1.63,  1.64,  1.65,\n        1.67,  1.69,  1.77,  1.78,  1.8 ,  1.81,  1.82,  1.86,  1.87,\n        1.88,  1.94,  1.96,  1.99,  2.  ,  2.05,  2.06,  2.08,  2.11,\n        2.14,  2.15,  2.16,  2.19,  2.2 ,  2.21,  2.23,  2.24,  2.25,\n        2.28,  2.29,  2.32,  2.36,  2.41,  2.42,  2.44,  2.46,  2.47,\n        2.5 ,  2.52,  2.54,  2.64,  2.67,  2.71,  2.81,  2.88,  2.93,\n        2.94,  2.97,  2.99,  3.  ,  3.03,  3.05,  3.06,  3.09,  3.12,\n        3.19,  3.25,  3.27,  3.38,  3.39,  3.53,  3.63,  3.69,  3.8 ,\n        3.81,  3.84,  3.88,  3.98,  3.99,  4.08,  4.11,  4.33,  4.49,\n        4.5 ,  4.54,  4.56,  4.57,  4.64,  4.65,  4.69,  4.78,  4.86,\n        5.  ,  5.03,  5.06,  5.12,  5.2 ,  5.25,  5.29,  5.32,  5.35,\n        5.36,  5.42,  5.49,  5.51,  5.65,  5.73,  5.74,  5.78,  5.83,\n        5.84,  5.9 ,  6.  ,  6.06,  6.07,  6.1 ,  6.13,  6.22,  6.24,\n        6.28,  6.3 ,  6.42,  6.55,  6.74,  6.75,  7.08,  7.14,  7.25,\n        7.26,  7.35,  7.37,  7.38,  7.41,  7.45,  7.47,  7.53,  7.58,\n        7.59,  7.65,  7.7 ,  7.73,  7.74,  7.78,  7.82,  7.85,  7.86,\n        7.89,  7.9 ,  7.91,  7.92,  7.95,  7.96,  7.97,  8.  ,  8.02,\n        8.03,  8.04,  8.06,  8.08,  8.09,  8.1 ,  8.11,  8.16,  8.19,\n        8.23,  8.25,  8.26,  8.28,  8.29,  8.34,  8.35,  8.39,  8.41,\n        8.45,  8.46,  8.47,  8.5 ,  8.55,  8.57,  8.66,  8.67,  8.69,\n        8.71,  8.72,  8.73,  8.76,  8.78,  8.79,  8.8 ,  8.9 ,  8.96,\n        8.97,  8.98,  8.99,  9.06,  9.09,  9.11,  9.13,  9.18,  9.27,\n        9.38,  9.39,  9.44,  9.5 ,  9.55,  9.56,  9.65,  9.66,  9.73,\n        9.74,  9.98, 10.2 , 10.32]),)"
     ]
    }
   ],
   "source": [
    "classifier.fit(X_train, y_train)\n",
    "y_test_pred = []\n",
    "if get_proba:\n",
    "    y_test_pred_proba = classifier.predict_proba(X_test)\n",
    "    for i in range(0, len(y_test_pred_proba)):\n",
    "        probabilities = y_test_pred_proba[i]\n",
    "        label = int(str(np.argmax(probabilities)))\n",
    "        y_test_pred.append(label)\n",
    "        print(\"predict:\", label, \"correct:\", int(y_test[i]), \"(\", probabilities[label]*100,\"%)\")\n",
    "else:\n",
    "    y_test_pred = classifier.predict(X_test)\n",
    "accuracy = 100.0 * (y_test == y_test_pred).sum()/X_test.shape[0]\n",
    "print(accuracy,\"%\")"
   ]
  },
  {
   "cell_type": "code",
   "execution_count": 38,
   "metadata": {},
   "outputs": [
    {
     "ename": "IndexError",
     "evalue": "index 1 is out of bounds for axis 1 with size 1",
     "output_type": "error",
     "traceback": [
      "\u001b[0;31m---------------------------------------------------------------------------\u001b[0m",
      "\u001b[0;31mIndexError\u001b[0m                                Traceback (most recent call last)",
      "\u001b[0;32m<ipython-input-38-4b83845bb8aa>\u001b[0m in \u001b[0;36m<module>\u001b[0;34m\u001b[0m\n\u001b[0;32m----> 1\u001b[0;31m \u001b[0mvisualize_classifier\u001b[0m\u001b[0;34m(\u001b[0m\u001b[0mclassifier\u001b[0m\u001b[0;34m,\u001b[0m \u001b[0mX\u001b[0m\u001b[0;34m,\u001b[0m \u001b[0my\u001b[0m\u001b[0;34m)\u001b[0m\u001b[0;34m\u001b[0m\u001b[0;34m\u001b[0m\u001b[0m\n\u001b[0m",
      "\u001b[0;32m<ipython-input-2-924280c32edd>\u001b[0m in \u001b[0;36mvisualize_classifier\u001b[0;34m(classifier, Х, y)\u001b[0m\n\u001b[1;32m     14\u001b[0m \u001b[0;32mdef\u001b[0m \u001b[0mvisualize_classifier\u001b[0m\u001b[0;34m(\u001b[0m\u001b[0mclassifier\u001b[0m\u001b[0;34m,\u001b[0m \u001b[0mХ\u001b[0m\u001b[0;34m,\u001b[0m \u001b[0my\u001b[0m\u001b[0;34m)\u001b[0m\u001b[0;34m:\u001b[0m\u001b[0;34m\u001b[0m\u001b[0;34m\u001b[0m\u001b[0m\n\u001b[1;32m     15\u001b[0m     \u001b[0mmin_x\u001b[0m\u001b[0;34m,\u001b[0m \u001b[0mmax_x\u001b[0m \u001b[0;34m=\u001b[0m \u001b[0mХ\u001b[0m\u001b[0;34m[\u001b[0m\u001b[0;34m:\u001b[0m\u001b[0;34m,\u001b[0m \u001b[0;36m0\u001b[0m\u001b[0;34m]\u001b[0m\u001b[0;34m.\u001b[0m\u001b[0mmin\u001b[0m\u001b[0;34m(\u001b[0m\u001b[0;34m)\u001b[0m \u001b[0;34m-\u001b[0m \u001b[0;36m1.0\u001b[0m\u001b[0;34m,\u001b[0m \u001b[0mХ\u001b[0m\u001b[0;34m[\u001b[0m\u001b[0;34m:\u001b[0m\u001b[0;34m,\u001b[0m \u001b[0;36m0\u001b[0m\u001b[0;34m]\u001b[0m\u001b[0;34m.\u001b[0m\u001b[0mmax\u001b[0m\u001b[0;34m(\u001b[0m\u001b[0;34m)\u001b[0m \u001b[0;34m+\u001b[0m \u001b[0;36m1.0\u001b[0m\u001b[0;34m\u001b[0m\u001b[0;34m\u001b[0m\u001b[0m\n\u001b[0;32m---> 16\u001b[0;31m     \u001b[0mmin_y\u001b[0m\u001b[0;34m,\u001b[0m \u001b[0mmax_y\u001b[0m \u001b[0;34m=\u001b[0m \u001b[0mХ\u001b[0m\u001b[0;34m[\u001b[0m\u001b[0;34m:\u001b[0m\u001b[0;34m,\u001b[0m \u001b[0;36m1\u001b[0m\u001b[0;34m]\u001b[0m \u001b[0;34m.\u001b[0m\u001b[0mmin\u001b[0m\u001b[0;34m(\u001b[0m\u001b[0;34m)\u001b[0m \u001b[0;34m-\u001b[0m \u001b[0;36m1.0\u001b[0m\u001b[0;34m,\u001b[0m \u001b[0mХ\u001b[0m\u001b[0;34m[\u001b[0m\u001b[0;34m:\u001b[0m\u001b[0;34m,\u001b[0m \u001b[0;36m1\u001b[0m\u001b[0;34m]\u001b[0m\u001b[0;34m.\u001b[0m\u001b[0mmax\u001b[0m\u001b[0;34m(\u001b[0m\u001b[0;34m)\u001b[0m \u001b[0;34m+\u001b[0m \u001b[0;36m1.0\u001b[0m\u001b[0;34m\u001b[0m\u001b[0;34m\u001b[0m\u001b[0m\n\u001b[0m\u001b[1;32m     17\u001b[0m     \u001b[0mmesh_step_size\u001b[0m \u001b[0;34m=\u001b[0m \u001b[0;36m0.01\u001b[0m\u001b[0;34m\u001b[0m\u001b[0;34m\u001b[0m\u001b[0m\n\u001b[1;32m     18\u001b[0m     \u001b[0mx_vals\u001b[0m\u001b[0;34m,\u001b[0m \u001b[0my_vals\u001b[0m \u001b[0;34m=\u001b[0m \u001b[0mnp\u001b[0m\u001b[0;34m.\u001b[0m\u001b[0mmeshgrid\u001b[0m\u001b[0;34m(\u001b[0m\u001b[0mnp\u001b[0m\u001b[0;34m.\u001b[0m\u001b[0marange\u001b[0m\u001b[0;34m(\u001b[0m\u001b[0mmin_x\u001b[0m\u001b[0;34m,\u001b[0m \u001b[0mmax_x\u001b[0m\u001b[0;34m,\u001b[0m \u001b[0mmesh_step_size\u001b[0m\u001b[0;34m)\u001b[0m\u001b[0;34m,\u001b[0m \u001b[0mnp\u001b[0m\u001b[0;34m.\u001b[0m\u001b[0marange\u001b[0m\u001b[0;34m(\u001b[0m\u001b[0mmin_y\u001b[0m\u001b[0;34m,\u001b[0m \u001b[0mmax_y\u001b[0m\u001b[0;34m,\u001b[0m \u001b[0mmesh_step_size\u001b[0m\u001b[0;34m)\u001b[0m\u001b[0;34m)\u001b[0m\u001b[0;34m\u001b[0m\u001b[0;34m\u001b[0m\u001b[0m\n",
      "\u001b[0;31mIndexError\u001b[0m: index 1 is out of bounds for axis 1 with size 1"
     ]
    }
   ],
   "source": [
    "visualize_classifier(classifier, X, y)"
   ]
  },
  {
   "cell_type": "code",
   "execution_count": null,
   "metadata": {
    "collapsed": true
   },
   "outputs": [],
   "source": []
  }
 ],
 "metadata": {
  "anaconda-cloud": {},
  "kernelspec": {
   "display_name": "Python 3",
   "language": "python",
   "name": "python3"
  },
  "language_info": {
   "codemirror_mode": {
    "name": "ipython",
    "version": 3
   },
   "file_extension": ".py",
   "mimetype": "text/x-python",
   "name": "python",
   "nbconvert_exporter": "python",
   "pygments_lexer": "ipython3",
   "version": "3.8.2"
  }
 },
 "nbformat": 4,
 "nbformat_minor": 2
}
