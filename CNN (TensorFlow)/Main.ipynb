{
 "cells": [
  {
   "cell_type": "code",
   "execution_count": 1,
   "metadata": {
    "scrolled": false
   },
   "outputs": [
    {
     "name": "stderr",
     "output_type": "stream",
     "text": [
      "/usr/local/lib/python3.6/dist-packages/tensorflow/python/framework/dtypes.py:493: FutureWarning: Passing (type, 1) or '1type' as a synonym of type is deprecated; in a future version of numpy, it will be understood as (type, (1,)) / '(1,)type'.\n",
      "  _np_qint8 = np.dtype([(\"qint8\", np.int8, 1)])\n",
      "/usr/local/lib/python3.6/dist-packages/tensorflow/python/framework/dtypes.py:494: FutureWarning: Passing (type, 1) or '1type' as a synonym of type is deprecated; in a future version of numpy, it will be understood as (type, (1,)) / '(1,)type'.\n",
      "  _np_quint8 = np.dtype([(\"quint8\", np.uint8, 1)])\n",
      "/usr/local/lib/python3.6/dist-packages/tensorflow/python/framework/dtypes.py:495: FutureWarning: Passing (type, 1) or '1type' as a synonym of type is deprecated; in a future version of numpy, it will be understood as (type, (1,)) / '(1,)type'.\n",
      "  _np_qint16 = np.dtype([(\"qint16\", np.int16, 1)])\n",
      "/usr/local/lib/python3.6/dist-packages/tensorflow/python/framework/dtypes.py:496: FutureWarning: Passing (type, 1) or '1type' as a synonym of type is deprecated; in a future version of numpy, it will be understood as (type, (1,)) / '(1,)type'.\n",
      "  _np_quint16 = np.dtype([(\"quint16\", np.uint16, 1)])\n",
      "/usr/local/lib/python3.6/dist-packages/tensorflow/python/framework/dtypes.py:497: FutureWarning: Passing (type, 1) or '1type' as a synonym of type is deprecated; in a future version of numpy, it will be understood as (type, (1,)) / '(1,)type'.\n",
      "  _np_qint32 = np.dtype([(\"qint32\", np.int32, 1)])\n",
      "/usr/local/lib/python3.6/dist-packages/tensorflow/python/framework/dtypes.py:502: FutureWarning: Passing (type, 1) or '1type' as a synonym of type is deprecated; in a future version of numpy, it will be understood as (type, (1,)) / '(1,)type'.\n",
      "  np_resource = np.dtype([(\"resource\", np.ubyte, 1)])\n"
     ]
    }
   ],
   "source": [
    "import tensorflow as tf\n",
    "from tensorflow import keras\n",
    "import numpy as np\n",
    "import matplotlib.pyplot as plt\n",
    "import numpy\n",
    "from PIL import Image\n",
    "import PIL\n",
    "import matplotlib"
   ]
  },
  {
   "cell_type": "code",
   "execution_count": 2,
   "metadata": {},
   "outputs": [
    {
     "name": "stdout",
     "output_type": "stream",
     "text": [
      "WARNING:tensorflow:From /usr/local/lib/python3.6/dist-packages/tensorflow/python/keras/_impl/keras/backend.py:1557: calling reduce_mean (from tensorflow.python.ops.math_ops) with keep_dims is deprecated and will be removed in a future version.\n",
      "Instructions for updating:\n",
      "keep_dims is deprecated, use keepdims instead\n",
      "WARNING:tensorflow:From /usr/local/lib/python3.6/dist-packages/tensorflow/python/keras/_impl/keras/backend.py:1422: calling reduce_max (from tensorflow.python.ops.math_ops) with keep_dims is deprecated and will be removed in a future version.\n",
      "Instructions for updating:\n",
      "keep_dims is deprecated, use keepdims instead\n",
      "Epoch 1/5\n",
      "100/100 [==============================]100/100 [==============================] - 0s 4ms/step - loss: 2.1855 - acc: 0.2100\n",
      "\n",
      "Epoch 2/5\n",
      "100/100 [==============================]100/100 [==============================] - 0s 1ms/step - loss: 1.2986 - acc: 0.7700\n",
      "\n",
      "Epoch 3/5\n",
      "100/100 [==============================]100/100 [==============================] - 0s 1ms/step - loss: 0.8791 - acc: 0.8600\n",
      "\n",
      "Epoch 4/5\n",
      "100/100 [==============================]100/100 [==============================] - 0s 1ms/step - loss: 0.5840 - acc: 0.9300\n",
      "\n",
      "Epoch 5/5\n",
      "100/100 [==============================]100/100 [==============================] - 0s 2ms/step - loss: 0.3976 - acc: 0.9500\n",
      "\n"
     ]
    },
    {
     "data": {
      "text/plain": [
       "<tensorflow.python.keras._impl.keras.callbacks.History at 0x7f2da1376358>"
      ]
     },
     "execution_count": 2,
     "metadata": {},
     "output_type": "execute_result"
    }
   ],
   "source": [
    "#MNIST на свёрточных сетях\n",
    "training_data_file = open(\"mnist_dataset/mnist_train_100.csv\", 'r')\n",
    "training_data_list = training_data_file.readlines()\n",
    "training_data_file.close()\n",
    "count_lines = len(training_data_list)\n",
    "for i in range(0,len(training_data_list)):\n",
    "    training_data_list[i]=list(map(int, training_data_list[i].split(',')))\n",
    "training_data_list=np.array(training_data_list)\n",
    "y_train = training_data_list[:,0]\n",
    "x_train = training_data_list[:,1:].reshape((count_lines,28,28))\n",
    "x_train = x_train/ 255.0 + 0.01\n",
    "\n",
    "model = tf.keras.models.Sequential([\n",
    "  tf.keras.layers.Flatten(input_shape=(28, 28)),\n",
    "  tf.keras.layers.Dense(512, activation=tf.nn.relu),\n",
    "  tf.keras.layers.Dropout(0.2),\n",
    "  tf.keras.layers.Dense(10, activation=tf.nn.softmax)\n",
    "])\n",
    "model.compile(optimizer='adam',\n",
    "              loss='sparse_categorical_crossentropy',\n",
    "              metrics=['accuracy'])\n",
    "\n",
    "model.fit(x_train, y_train, epochs=5)"
   ]
  },
  {
   "cell_type": "code",
   "execution_count": 3,
   "metadata": {},
   "outputs": [
    {
     "name": "stdout",
     "output_type": "stream",
     "text": [
      "63.07 %\n"
     ]
    }
   ],
   "source": [
    "#Тестирование нейросети\n",
    "test_data_file = open(\"mnist_dataset/mnist_test.csv\", 'r')\n",
    "test_data_list = test_data_file.readlines()\n",
    "test_data_file.close()\n",
    "scor = 0\n",
    "for record in test_data_list:\n",
    "    all_values = record.split(',')\n",
    "    array = numpy.asfarray(all_values[1:])\n",
    "    inputs = (array / 255.0) * 0.99 + 0.01\n",
    "    inputs = inputs.reshape((1,28,28))\n",
    "    \n",
    "    correct = int(all_values[0])\n",
    "    outputs = model.predict(inputs)\n",
    "    label = numpy.argmax(outputs)\n",
    "    if(label == correct):\n",
    "        scor+=1\n",
    "print(scor*100/len(test_data_list),\"%\")"
   ]
  },
  {
   "cell_type": "code",
   "execution_count": 4,
   "metadata": {},
   "outputs": [
    {
     "name": "stdout",
     "output_type": "stream",
     "text": [
      "3 ( 60.02650856971741 % )\n"
     ]
    },
    {
     "data": {
      "image/png": "[encoded data removed]",
      "text/plain": [
       "<matplotlib.figure.Figure at 0x7f2d666f30b8>"
      ]
     },
     "metadata": {
      "needs_background": "light"
     },
     "output_type": "display_data"
    }
   ],
   "source": [
    "#Тестирование на входном изображении\n",
    "img = Image.open('my_tests/1.png')\n",
    "img = img.resize((28, 28), PIL.Image.ANTIALIAS)\n",
    "img = img.convert('L')\n",
    "\n",
    "img_data = 255.0-numpy.ravel(numpy.array(img))\n",
    "\n",
    "matplotlib.pyplot.imshow(255.0-numpy.array(img), cmap=\"Greys\", interpolation=\"None\")\n",
    "\n",
    "\n",
    "img_data = (img_data / 255.0 * 0.99) + 0.01\n",
    "img_data = img_data.reshape((1,28,28))\n",
    "outputs = model.predict(img_data)\n",
    "label = numpy.argmax(outputs)\n",
    "print(label, \"(\", outputs[0][label]*100, \"% )\")\n",
    "\n",
    "img.close()"
   ]
  },
  {
   "cell_type": "code",
   "execution_count": null,
   "metadata": {
    "collapsed": true
   },
   "outputs": [],
   "source": []
  }
 ],
 "metadata": {
  "anaconda-cloud": {},
  "kernelspec": {
   "display_name": "Python 3",
   "language": "python",
   "name": "python3"
  },
  "language_info": {
   "codemirror_mode": {
    "name": "ipython",
    "version": 3
   },
   "file_extension": ".py",
   "mimetype": "text/x-python",
   "name": "python",
   "nbconvert_exporter": "python",
   "pygments_lexer": "ipython3",
   "version": "3.6.9"
  }
 },
 "nbformat": 4,
 "nbformat_minor": 1
}
